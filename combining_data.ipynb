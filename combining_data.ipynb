{
 "cells": [
  {
   "cell_type": "code",
   "execution_count": 6,
   "id": "399a88e8",
   "metadata": {},
   "outputs": [],
   "source": [
    "# Dependencies and Setup\n",
    "import pandas as pd\n",
    "from pathlib import Path"
   ]
  },
  {
   "cell_type": "code",
   "execution_count": 7,
   "id": "5d41a8aa",
   "metadata": {},
   "outputs": [],
   "source": [
    "# File paths\n",
    "citibike_2022 = Path(\"JC-202201-citibike-tripdata.csv\")\n",
    "citibike_2023 = Path(\"JC-202301-citibike-tripdata.csv\")\n",
    "\n",
    "# Read citibike data\n",
    "data_2022 = pd.read_csv(citibike_2022)\n",
    "data_2023 = pd.read_csv(citibike_2023)\n",
    "\n",
    "# Combine the data into a single dataset using pd.concat()\n",
    "combined_data = pd.concat([data_2022, data_2023], ignore_index=True)"
   ]
  },
  {
   "cell_type": "code",
   "execution_count": 8,
   "id": "5cd163c6",
   "metadata": {},
   "outputs": [],
   "source": [
    "# Export the combined data to a CSV file\n",
    "combined_data.to_csv(\"combined_citibike_data.csv\", index=False)\n"
   ]
  },
  {
   "cell_type": "code",
   "execution_count": null,
   "id": "c45aa1e9",
   "metadata": {},
   "outputs": [],
   "source": []
  }
 ],
 "metadata": {
  "kernelspec": {
   "display_name": "Python 3 (ipykernel)",
   "language": "python",
   "name": "python3"
  },
  "language_info": {
   "codemirror_mode": {
    "name": "ipython",
    "version": 3
   },
   "file_extension": ".py",
   "mimetype": "text/x-python",
   "name": "python",
   "nbconvert_exporter": "python",
   "pygments_lexer": "ipython3",
   "version": "3.11.3"
  }
 },
 "nbformat": 4,
 "nbformat_minor": 5
}
